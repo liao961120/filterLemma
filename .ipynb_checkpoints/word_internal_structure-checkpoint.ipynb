{
 "cells": [
  {
   "cell_type": "markdown",
   "metadata": {},
   "source": [
    "# 函數"
   ]
  },
  {
   "cell_type": "code",
   "execution_count": 1,
   "metadata": {},
   "outputs": [],
   "source": [
    "import pickle, re\n",
    "\n",
    "with open('as_wordFreq.pickle', 'rb') as f:\n",
    "    word_freq = pickle.load(f)\n",
    "\n",
    "    \n",
    "def load_wordfq(word_freq):\n",
    "    avail_word = set(word_freq.keys())\n",
    "    \n",
    "    def query_freq(string):\n",
    "        if string not in avail_word:\n",
    "            return(0)\n",
    "        else:\n",
    "            return(word_freq[string])\n",
    "    \n",
    "    return(query_freq)\n",
    "\n",
    "\n",
    "def load_is_ancient():\n",
    "    pat = re.compile(r'^《(.+?)》')\n",
    "\n",
    "    def is_ancient(quote_str):\n",
    "        nonlocal pat\n",
    "        matched = pat.search(quote_str)\n",
    "\n",
    "        if matched is None:\n",
    "            return(False)\n",
    "        else:\n",
    "            return(True)\n",
    "    \n",
    "    return(is_ancient)\n",
    "\n",
    "\n",
    "def load_parse_examples():\n",
    "    pat = re.compile(r'「(.+?)」')\n",
    "    \n",
    "    def parse_examples(example_str):\n",
    "        nonlocal pat\n",
    "        matched = pat.findall(example_str)\n",
    "        return(matched)\n",
    "\n",
    "    return(parse_examples)\n",
    "\n",
    "\n",
    "## Initialize functions\n",
    "query_as4_freq = load_wordfq(word_freq)\n",
    "is_classic = load_is_ancient()\n",
    "get_examplar_words = load_parse_examples()"
   ]
  },
  {
   "cell_type": "markdown",
   "metadata": {},
   "source": [
    "## Usage"
   ]
  },
  {
   "cell_type": "code",
   "execution_count": 2,
   "metadata": {},
   "outputs": [
    {
     "data": {
      "text/plain": [
       "6"
      ]
     },
     "execution_count": 2,
     "metadata": {},
     "output_type": "execute_result"
    }
   ],
   "source": [
    "query_as4_freq('場場')"
   ]
  },
  {
   "cell_type": "code",
   "execution_count": 3,
   "metadata": {},
   "outputs": [
    {
     "data": {
      "text/plain": [
       "True"
      ]
     },
     "execution_count": 3,
     "metadata": {},
     "output_type": "execute_result"
    }
   ],
   "source": [
    "quote_str = '《警世通言．卷一六．小夫人金錢贈年少》：「孩兒感些風寒，這幾日身子不快，來不得。傳語員外得知，一好便來。」'\n",
    "is_classic(quote_str)"
   ]
  },
  {
   "cell_type": "code",
   "execution_count": 4,
   "metadata": {},
   "outputs": [
    {
     "data": {
      "text/plain": [
       "['好東西', '好風景', '花好月圓', '好人好事']"
      ]
     },
     "execution_count": 4,
     "metadata": {},
     "output_type": "execute_result"
    }
   ],
   "source": [
    "example_str = '如：「好東西」、「好風景」、「花好月圓」、「好人好事」。'\n",
    "get_examplar_words(example_str)"
   ]
  },
  {
   "cell_type": "markdown",
   "metadata": {},
   "source": [
    "# 撰寫過程"
   ]
  },
  {
   "cell_type": "markdown",
   "metadata": {},
   "source": [
    "## Query Word Freqency"
   ]
  },
  {
   "cell_type": "code",
   "execution_count": 5,
   "metadata": {},
   "outputs": [],
   "source": [
    "import pickle\n",
    "with open('as_wordFreq.pickle', 'rb') as f:\n",
    "    word_freq = pickle.load(f)"
   ]
  },
  {
   "cell_type": "code",
   "execution_count": 6,
   "metadata": {},
   "outputs": [],
   "source": [
    "def load_wordfq(word_freq):\n",
    "    avail_word = set(word_freq.keys())\n",
    "    \n",
    "    def query_freq(string):\n",
    "        if string not in avail_word:\n",
    "            return(0)\n",
    "        else:\n",
    "            return(word_freq[string])\n",
    "    \n",
    "    return(query_freq)\n",
    "\n",
    "query_freq = load_wordfq(word_freq)"
   ]
  },
  {
   "cell_type": "code",
   "execution_count": 7,
   "metadata": {},
   "outputs": [
    {
     "name": "stdout",
     "output_type": "stream",
     "text": [
      "6\n",
      "0\n"
     ]
    }
   ],
   "source": [
    "print(query_freq('場場'), query_freq('場場場場'), sep='\\n')"
   ]
  },
  {
   "cell_type": "markdown",
   "metadata": {},
   "source": [
    "## 載入字典檔"
   ]
  },
  {
   "cell_type": "code",
   "execution_count": 8,
   "metadata": {},
   "outputs": [],
   "source": [
    "import json\n",
    "with open('dict-revised.json', 'r') as f:\n",
    "    edu_dict = json.load(f)\n",
    "\n",
    "def load_search_dict(edu_dict):\n",
    "    dict_len = len(edu_dict)\n",
    "    \n",
    "    def search_dict(title):\n",
    "        for i in range(dict_len):\n",
    "            if edu_dict[i]['title'] == title:\n",
    "                return(edu_dict[i])\n",
    "        \n",
    "        print(title, 'not found. Return `None`')\n",
    "        return(None)\n",
    "    \n",
    "    return(search_dict)\n",
    "\n",
    "search_dict = load_search_dict(edu_dict)"
   ]
  },
  {
   "cell_type": "code",
   "execution_count": 9,
   "metadata": {},
   "outputs": [
    {
     "name": "stdout",
     "output_type": "stream",
     "text": [
      "《警世通言．卷一六．小夫人金錢贈年少》：「孩兒感些風寒，這幾日身子不快，來不得。傳語員外得知，一好便來。」\n",
      "如：「好東西」、「好風景」、「花好月圓」、「好人好事」。\n"
     ]
    }
   ],
   "source": [
    "quote_str = search_dict('好')['heteronyms'][0]['definitions'][4]['quote'][0]\n",
    "example_str = search_dict('好')['heteronyms'][0]['definitions'][0]['example'][0]\n",
    "\n",
    "print(quote_str, example_str, sep='\\n')"
   ]
  },
  {
   "cell_type": "markdown",
   "metadata": {},
   "source": [
    "## 是古文嗎？"
   ]
  },
  {
   "cell_type": "code",
   "execution_count": 10,
   "metadata": {},
   "outputs": [],
   "source": [
    "import re\n",
    "\n",
    "def load_is_ancient():\n",
    "    pat = re.compile(r'^《(.+?)》')\n",
    "\n",
    "    def is_ancient(quote_str):\n",
    "        nonlocal pat\n",
    "        matched = pat.search(quote_str)\n",
    "\n",
    "        if matched is None:\n",
    "            return(False)\n",
    "        else:\n",
    "            return(True)\n",
    "    \n",
    "    return(is_ancient)\n",
    "\n",
    "is_ancient = load_is_ancient()"
   ]
  },
  {
   "cell_type": "code",
   "execution_count": 11,
   "metadata": {},
   "outputs": [
    {
     "name": "stdout",
     "output_type": "stream",
     "text": [
      "True\n",
      "False\n"
     ]
    }
   ],
   "source": [
    "print(is_ancient(quote_str), is_ancient('quote_str'), sep='\\n')"
   ]
  },
  {
   "cell_type": "markdown",
   "metadata": {},
   "source": [
    "## 抓出例詞"
   ]
  },
  {
   "cell_type": "code",
   "execution_count": 12,
   "metadata": {},
   "outputs": [],
   "source": [
    "def load_parse_examples():\n",
    "    pat = re.compile(r'「(.+?)」')\n",
    "    \n",
    "    def parse_examples(example_str):\n",
    "        nonlocal pat\n",
    "        matched = pat.findall(example_str)\n",
    "        return(matched)\n",
    "\n",
    "    return(parse_examples)\n",
    "\n",
    "parse_examples = load_parse_examples()"
   ]
  },
  {
   "cell_type": "code",
   "execution_count": 13,
   "metadata": {},
   "outputs": [
    {
     "name": "stdout",
     "output_type": "stream",
     "text": [
      "[]\n",
      "['好東西', '好風景', '花好月圓', '好人好事']\n"
     ]
    }
   ],
   "source": [
    "print(parse_examples('example_str'), parse_examples(example_str), sep='\\n')"
   ]
  }
 ],
 "metadata": {
  "kernelspec": {
   "display_name": "Python 3",
   "language": "python",
   "name": "python3"
  },
  "language_info": {
   "codemirror_mode": {
    "name": "ipython",
    "version": 3
   },
   "file_extension": ".py",
   "mimetype": "text/x-python",
   "name": "python",
   "nbconvert_exporter": "python",
   "pygments_lexer": "ipython3",
   "version": "3.6.7"
  }
 },
 "nbformat": 4,
 "nbformat_minor": 2
}

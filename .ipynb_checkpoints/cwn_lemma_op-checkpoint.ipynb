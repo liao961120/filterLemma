{
 "cells": [
  {
   "cell_type": "code",
   "execution_count": 1,
   "metadata": {},
   "outputs": [],
   "source": [
    "%load_ext autoreload\n",
    "%autoreload 2\n",
    "%matplotlib inline"
   ]
  },
  {
   "cell_type": "code",
   "execution_count": 4,
   "metadata": {},
   "outputs": [],
   "source": [
    "from CwnGraph import CwnBase, CwnAnnotator\n",
    "from CwnGraph import CwnSense, CwnFacet, CwnSynset"
   ]
  },
  {
   "cell_type": "code",
   "execution_count": 5,
   "metadata": {},
   "outputs": [],
   "source": [
    "cwn = CwnBase()"
   ]
  },
  {
   "cell_type": "markdown",
   "metadata": {},
   "source": [
    "## 1. get all two-character lemmas"
   ]
  },
  {
   "cell_type": "code",
   "execution_count": 17,
   "metadata": {},
   "outputs": [],
   "source": [
    "### 1. lemma itself is an orphan (no sense node connected)"
   ]
  },
  {
   "cell_type": "code",
   "execution_count": 19,
   "metadata": {},
   "outputs": [
    {
     "name": "stdout",
     "output_type": "stream",
     "text": [
      "two-character lemma: 17192\n",
      "lemmas with senses: 5510\n"
     ]
    }
   ],
   "source": [
    "lemmas = cwn.find_lemma(\"^..$\")\n",
    "print(f\"two-character lemma: {len(lemmas)}\")\n",
    "lemmas_with_senses = [x for x in lemmas if x.senses]\n",
    "print(f\"lemmas with senses: {len(lemmas_with_senses)}\")"
   ]
  },
  {
   "cell_type": "code",
   "execution_count": 25,
   "metadata": {},
   "outputs": [
    {
     "data": {
      "text/plain": [
       "[<CwnSense[04045801](些): 表不確定的小數量。>, <CwnSense[04045802](些): 表程度輕微，常接在形容詞之後。>]"
      ]
     },
     "execution_count": 25,
     "metadata": {},
     "output_type": "execute_result"
    }
   ],
   "source": [
    "cwn.find_lemma(\"^些$\")[0].senses"
   ]
  },
  {
   "cell_type": "code",
   "execution_count": 69,
   "metadata": {},
   "outputs": [],
   "source": [
    "### 2. any sense nodes connected to the lemma has no hyper/hypo relations"
   ]
  },
  {
   "cell_type": "code",
   "execution_count": 125,
   "metadata": {},
   "outputs": [
    {
     "data": {
      "text/plain": [
       "(17192, 3)"
      ]
     },
     "execution_count": 125,
     "metadata": {},
     "output_type": "execute_result"
    }
   ],
   "source": [
    "lemma_data = []\n",
    "for lemma_x in lemmas:\n",
    "    text = lemma_x.lemma\n",
    "    n_sense = len(lemma_x.senses)\n",
    "    n_hyper = sum(len(x.hypernym) for x in lemma_x.senses)\n",
    "    n_hypo = sum(len(x.hyponym) for x in lemma_x.senses)\n",
    "    lemma_data.append((text, n_sense, n_hyper, n_hypo))\n",
    "pd_lemma_conn = pd.DataFrame.from_records(lemma_data,\n",
    "        columns = [\"text\", \"n_sense\", \"n_hyper\", \"n_hypo\"]\n",
    "    )\n",
    "pd_lemma_conn.set_index(\"text\", inplace=True)\n",
    "pd_lemma_conn.sort_index(inplace=True)\n",
    "pd_lemma_conn.shape"
   ]
  },
  {
   "cell_type": "code",
   "execution_count": null,
   "metadata": {},
   "outputs": [],
   "source": []
  }
 ],
 "metadata": {
  "kernelspec": {
   "display_name": "Python 3",
   "language": "python",
   "name": "python3"
  },
  "language_info": {
   "codemirror_mode": {
    "name": "ipython",
    "version": 3
   },
   "file_extension": ".py",
   "mimetype": "text/x-python",
   "name": "python",
   "nbconvert_exporter": "python",
   "pygments_lexer": "ipython3",
   "version": "3.6.7"
  }
 },
 "nbformat": 4,
 "nbformat_minor": 2
}

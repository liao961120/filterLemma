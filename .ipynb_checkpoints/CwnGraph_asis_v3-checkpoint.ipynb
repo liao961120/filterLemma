{
 "cells": [
  {
   "cell_type": "code",
   "execution_count": 2,
   "metadata": {},
   "outputs": [
    {
     "name": "stdout",
     "output_type": "stream",
     "text": [
      "The autoreload extension is already loaded. To reload it, use:\n",
      "  %reload_ext autoreload\n"
     ]
    }
   ],
   "source": [
    "%load_ext autoreload\n",
    "%autoreload 2\n",
    "import sys\n",
    "sys.path.append('CwnGraph')"
   ]
  },
  {
   "cell_type": "code",
   "execution_count": 3,
   "metadata": {},
   "outputs": [],
   "source": [
    "import pickle\n",
    "from CwnGraph import CwnBase, CwnAnnotator\n",
    "from CwnGraph import CwnRelationType"
   ]
  },
  {
   "cell_type": "code",
   "execution_count": null,
   "metadata": {},
   "outputs": [],
   "source": [
    "# 似乎可以不用 run \n",
    "# cwn = CwnBase.install_cwn(\"data/cwn_graph.pyobj\")"
   ]
  },
  {
   "cell_type": "code",
   "execution_count": 4,
   "metadata": {},
   "outputs": [],
   "source": [
    "cwn = CwnBase()"
   ]
  },
  {
   "cell_type": "code",
   "execution_count": null,
   "metadata": {},
   "outputs": [
    {
     "name": "stdout",
     "output_type": "stream",
     "text": [
      "CwnGraph 資料查詢小幫手\n",
      "============================================================\n",
      "::: 小幫手功能說明 :::\n",
      "--查詢詞義 >>>>>> 請輸入 a \n",
      "--查詢詞義與例句 >>>>>> 請輸入 b \n",
      "--結束小幫手 >>>>>> 請輸入 1 \n",
      "\n",
      "\n",
      "<功能選擇> 請輸入英文字母：a\n"
     ]
    }
   ],
   "source": [
    "from pprint import pprint\n",
    "\n",
    "print(\"CwnGraph 資料查詢小幫手\")\n",
    "print(\"=\"*60)\n",
    "\n",
    "switch = True\n",
    "while switch == True:\n",
    "    print(\"::: 小幫手功能說明 :::\",\"--查詢詞義 >>>>>> 請輸入 a \",\"--查詢詞義與例句 >>>>>> 請輸入 b \", \"--結束小幫手 >>>>>> 請輸入 1 \", sep=\"\\n\", end=\"\\n\\n\\n\")\n",
    "    item = input('<功能選擇> 請輸入英文字母：')\n",
    "    if item == \"a\":\n",
    "        findsenses = True\n",
    "        while findsenses == True:\n",
    "            lookingsense = input('[a] 查詢詞義 >> 請輸入欲查詢的詞(跳出請輸入 2 )：')\n",
    "            if lookingsense not in [\"1\", \"2\", \"b\"]:\n",
    "                center = \"^\"+lookingsense+\"$\"\n",
    "                lemmas = cwn.find_lemma(center)\n",
    "                senses = cwn.find_senses(lemma=center)\n",
    "                print(\"=\"*20,'\\n','[[[查詢結果]]]','\\n')\n",
    "                print(\"所查詞彙:\",lookingsense, \"\\n\", \"詞彙(lemma)數量:\", len(lemmas), \"\\n\", \"詞義(sense)數量:\",len(senses), \"\\n\")\n",
    "                for lemm in lemmas:\n",
    "                    lemsense = lemm.senses\n",
    "                    print(lemm)\n",
    "                    if len(lemsense) > 0:\n",
    "                        for i in range(len(lemsense)):\n",
    "                            pos = lemsense[i].data()[\"pos\"]\n",
    "                        #examples = lemsense[i].examples[0]\n",
    "                            print(\" \", \"[詞性]\", pos, \" \", lemsense[i])\n",
    "                print(\"=\"*30)\n",
    "                    \n",
    "            elif lookingsense == \"2\":\n",
    "                print(\"\\n\",'跳出詞義查詢～～～',end=\"\\n\\n\")\n",
    "                print(\"=\"*30)\n",
    "                findsenses = False\n",
    "            \n",
    "            elif lookingsense == \"1\":\n",
    "                print(\"\\n\", '再會～～～小幫手退場囉～～～',end=\"\\n\\n\")\n",
    "                findsenses = False\n",
    "                switch = False\n",
    "                \n",
    "            elif lookingsense == \"b\":\n",
    "                print(\"\\n\", '跳至查詢詞義與例句～～～',end=\"\\n\\n\")\n",
    "                print(\"=\"*30)\n",
    "                findsenses = False \n",
    "                item = \"b\"\n",
    "                \n",
    "    if item == \"b\":    \n",
    "        findall = True\n",
    "        while findall == True:\n",
    "            name = input('[b] 查詢詞義與例句 >> 請輸入欲查詢的詞(跳出請輸入 2 )：')\n",
    "            seed = \"^\"+name+\"$\"\n",
    "            lemman= len(cwn.find_senses(lemma=seed))\n",
    "            result = {x: x.all_examples() for x in cwn.find_senses(seed)}\n",
    "            \n",
    "            if name not in [\"1\", \"2\", \"a\"]:\n",
    "                print(\"=\"*20,'\\n','[[[查詢結果]]]',\"\\n\\n\", \"「\", name, \"」的詞義數量：\",lemman,\"\\n------\")\n",
    "                for k, v in result.items():\n",
    "                    spos = k.data()[\"pos\"]\n",
    "                    print(\"詞性:\", spos,\"  \", k,\"\\n\", \"::例句::\", \"\\n\", v,\"\\n\",\"------\",\"\\n\")\n",
    "                \n",
    "                print(\"=\"*30)\n",
    "\n",
    "            elif name == \"2\":\n",
    "                print(\"\\n\", \"跳出詞義與例句查詢～～～\",end=\"\\n\\n\")\n",
    "                print(\"=\"*30)\n",
    "                findall = False\n",
    "                \n",
    "            elif name == \"1\":\n",
    "                print(\"\\n\", '再會～～～小幫手退場囉～～～',end=\"\\n\\n\")\n",
    "                findall = False\n",
    "                switch = False\n",
    "                \n",
    "            elif name == \"a\":\n",
    "                print(\"\\n\", '跳至查詢詞義～～～',end=\"\\n\\n\")\n",
    "                print(\"=\"*30)\n",
    "                findall = False\n",
    "                item = \"a\" #不知如何跳回去 [a] 查詢詞義＠＠\n",
    "                findsenses = True\n",
    "                \n",
    "               \n",
    "    if item == \"1\":\n",
    "        print(\"\\n\", '再會～～～小幫手退場囉～～～')\n",
    "        switch = False\n",
    "    \n",
    "    "
   ]
  },
  {
   "cell_type": "code",
   "execution_count": null,
   "metadata": {},
   "outputs": [],
   "source": []
  }
 ],
 "metadata": {
  "kernelspec": {
   "display_name": "Python 3",
   "language": "python",
   "name": "python3"
  },
  "language_info": {
   "codemirror_mode": {
    "name": "ipython",
    "version": 3
   },
   "file_extension": ".py",
   "mimetype": "text/x-python",
   "name": "python",
   "nbconvert_exporter": "python",
   "pygments_lexer": "ipython3",
   "version": "3.6.7"
  }
 },
 "nbformat": 4,
 "nbformat_minor": 2
}

{
 "cells": [
  {
   "cell_type": "code",
   "execution_count": 1,
   "metadata": {},
   "outputs": [],
   "source": [
    "%load_ext autoreload\n",
    "%autoreload 2\n",
    "import pickle\n",
    "from CwnGraph import CwnBase, CwnAnnotator\n",
    "from CwnGraph import CwnRelationType\n",
    "cwn = CwnBase()"
   ]
  },
  {
   "cell_type": "code",
   "execution_count": 2,
   "metadata": {},
   "outputs": [],
   "source": [
    "import csv\n",
    "\n",
    "with open('../annotated_relation/merged.csv', 'r') as f:\n",
    "    rows = csv.reader(f)\n",
    "    data = list(rows)\n",
    "\n",
    "len(data)"
   ]
  },
  {
   "cell_type": "markdown",
   "metadata": {},
   "source": [
    "## Checking: lemma"
   ]
  },
  {
   "cell_type": "code",
   "execution_count": 39,
   "metadata": {},
   "outputs": [
    {
     "name": "stdout",
     "output_type": "stream",
     "text": [
      "Found invalid:   [<CwnLemma: 點點_1>] <CwnSense[05162502](點點): 多且不連續的小滴液體。>\n",
      "Found invalid:   [<CwnLemma: 點點_1>] <CwnSense[05162503](點點): 表不確定的小數量。>\n",
      "Found invalid:   [<CwnLemma: 點點_1>] <CwnSense[05162504](點點): 輕觸到物體後立即離開。>\n",
      "Found invalid:   [<CwnLemma: 預估_1>] <CwnSense[04114702](預估): 事情發生前的估算。>\n",
      "Found invalid:   [<CwnLemma: 面目_1>] <CwnSense[05040402](面目): 前述社群呈現出來的發展狀態。>\n",
      "Found invalid:   [<CwnLemma: 露面_1>] <CwnSense[04098401](露面): 被看見。>\n",
      "Found invalid:   [<CwnLemma: 電腦_1>] <CwnSense[06613603](電腦): 比喻計算或記憶能力很強的人。>\n",
      "Found invalid:   [<CwnLemma: 開動_1>, <CwnLemma: 開動_2>] <CwnSense[05107502](開動): 以前述能源使後述對象運轉。>\n",
      "Found invalid:   [<CwnLemma: 開刀_1>] <CwnSense[06698202](開刀): 比喻醫生幫病人所進行的侵入性治療。>\n",
      "Found invalid:   [<CwnLemma: 金融_1>] <CwnSense[06505703](金融): 金融類股票的簡省。>\n",
      "Found invalid:   [<CwnLemma: 酒店_1>] <CwnSense[04079401](酒店): 賣酒的商店。>\n",
      "Found invalid:   [<CwnLemma: 邊政_1>] <CwnSense[06506102](邊政): 研究政府對邊疆所執行的各項管理措施的知識。>\n",
      "Found invalid:   [<CwnLemma: 過目_1>] <CwnSense[04099701](過目): 很快地看過一遍。>\n",
      "Found invalid:   [<CwnLemma: 進展_1>] <CwnSense[04097105](進展): 戰線向前推進。>\n",
      "Found invalid:   [<CwnLemma: 週旋_1>] <CwnSense[06784501](週旋): 在固定空間範圍內持續繞來繞去。>\n",
      "Found invalid:   [<CwnLemma: 車行_1>, <CwnLemma: 車行_2>] <CwnSense[05089904](車行): 經營出租車輛的公司的建築物及建築物所在的位置。>\n",
      "Found invalid:   [<CwnLemma: 車子_1>] <CwnSense[06521402](車子): 以車子為形象製成的人造物。>\n",
      "Found invalid:   [<CwnLemma: 設定_1>] <CwnSense[06572704](設定): 邏輯上必須條件的假設。>\n",
      "Found invalid:   [<CwnLemma: 計較_1>] <CwnSense[05189603](計較): 辦法。>\n",
      "Found invalid:   [<CwnLemma: 若干_1>, <CwnLemma: 若干_2>] <CwnSense[06776701](若干): 姓。>\n",
      "Found invalid:   [<CwnLemma: 臨近_1>] <CwnSense[04012301](臨近): 接近。>\n",
      "Found invalid:   [<CwnLemma: 網路_1>] <CwnSense[06667802](網路): 互相連接的網路系統。>\n",
      "Found invalid:   [<CwnLemma: 結為_1>] <CwnSense[05059506](結為): 前述對象數量合計的結果是後述對象。>\n",
      "Found invalid:   [<CwnLemma: 細微_1>] <CwnSense[04128204](細微): 形容能分辨細微差異的。>\n",
      "Found invalid:   [<CwnLemma: 紀錄_1>] <CwnSense[05009503](紀錄): 會議中記載開會內容的人。>\n",
      "Found invalid:   [<CwnLemma: 空氣_1>] <CwnSense[06742505](空氣): 比喻被忽略的特定對象。>\n",
      "Found invalid:   [<CwnLemma: 禪宗_1>] <CwnSense[06507202](禪宗): 禪宗的教義。>\n",
      "Found invalid:   [<CwnLemma: 視作_1>] <CwnSense[05058402](視作): 認知者對事物的判斷。>\n",
      "Found invalid:   [<CwnLemma: 示意_1>] <CwnSense[04100502](示意): 藉由表情或動作所傳達的訊息。>\n",
      "Found invalid:   [<CwnLemma: 獻藝_1>] <CwnSense[04103102](獻藝): 投注全部心力於藝術。>\n",
      "Found invalid:   [<CwnLemma: 猜測_1>] <CwnSense[05217402](猜測): 根據已經知道的事實所提出來的合理假設。>\n",
      "Found invalid:   [<CwnLemma: 減半_1>] <CwnSense[04099202](減半): 比喻前述對象的程度降低到二分之一。>\n",
      "Found invalid:   [<CwnLemma: 淋濕_1>] <CwnSense[04101402](淋濕): 使後述物體被水澆濕。>\n",
      "Found invalid:   [<CwnLemma: 沙國_1>] <CwnSense[05189002](沙國): 沙國的文化。>\n",
      "Found invalid:   [<CwnLemma: 本金_1>] <CwnSense[10001702](本金): 用於營利或其他投資事業的金錢。>\n",
      "Found invalid:   [<CwnLemma: 明朗_1>] <CwnSense[03028901](明朗): 形容光線充足明亮。>\n",
      "Found invalid:   [<CwnLemma: 施力_1>] <CwnSense[04100903](施力): 比喻發揮能力。>\n",
      "Found invalid:   [<CwnLemma: 敬禮_1>] <CwnSense[04101802](敬禮): 敬辭。>\n",
      "Found invalid:   [<CwnLemma: 散去_1>] <CwnSense[05106802](散去): 比喻原本聚集在一起的前述團體彼此分開。>\n",
      "Found invalid:   [<CwnLemma: 摩擦_1>] <CwnSense[14109502](摩擦): 人與人之間的衝突。>\n",
      "Found invalid:   [<CwnLemma: 提名_1>] <CwnSense[05091103](提名): 在選舉中，政黨或政府機構經過特定程序對候選人的認定。>\n",
      "Found invalid:   [<CwnLemma: 提名_1>] <CwnSense[05091104](提名): 替作品命名並將該名稱寫在作品上。>\n",
      "Found invalid:   [<CwnLemma: 推論_1>] <CwnSense[05217202](推論): 根據已經知道的事實所斷定的結論。>\n",
      "Found invalid:   [<CwnLemma: 推斷_1>] <CwnSense[05217102](推斷): 根據已經知道的事實所斷定的結論。>\n",
      "Found invalid:   [<CwnLemma: 應徵_1>] <CwnSense[05043604](應徵): 公開徵求作品。>\n",
      "Found invalid:   [<CwnLemma: 恰好_1>] <CwnSense[04032504](恰好): 形容適當的時間。>\n",
      "Found invalid:   [<CwnLemma: 建檔_1>] <CwnSense[06509901](建檔): 把處理完畢的書面公文、資料等建立成檔案，留供以後查證參考。>\n",
      "Found invalid:   [<CwnLemma: 展示_1>] <CwnSense[06741703](展示): 供人觀賞的特定對象。>\n",
      "Found invalid:   [<CwnLemma: 客氣_1>] <CwnSense[14191202](客氣): 以謙虛有禮的態度對待他人。>\n",
      "Found invalid:   [<CwnLemma: 官人_1>] <CwnSense[05149102](官人): 前述對象的丈夫。>\n",
      "Found invalid:   [<CwnLemma: 官人_1>] <CwnSense[05149103](官人): 代指女性說話者的丈夫。>\n",
      "Found invalid:   [<CwnLemma: 官人_1>] <CwnSense[05149104](官人): 男性聽話者。>\n",
      "Found invalid:   [<CwnLemma: 大我_1>] <CwnSense[04087002](大我): 宇宙萬有的本體。>\n",
      "Found invalid:   [<CwnLemma: 多多_1>, <CwnLemma: 多多_2>] <CwnSense[05069503](多多): 形容勝過標準的程度。>\n",
      "Found invalid:   [<CwnLemma: 外行_1>] <CwnSense[03043901](外行): 對特定事物無經驗或不懂。>\n",
      "Found invalid:   [<CwnLemma: 報紙_1>] <CwnSense[03001802](報紙): 定期出版、報導新聞、提供各式訊息出版品的組織。>\n",
      "Found invalid:   [<CwnLemma: 告狀_1>] <CwnSense[05176803](告狀): 請求司法機關審理的案件。>\n",
      "Found invalid:   [<CwnLemma: 同志_1>] <CwnSense[03042701](同志): 為共同理想，事業而奮鬥的人。>\n",
      "Found invalid:   [<CwnLemma: 十分_1>, <CwnLemma: 十分_2>] <CwnSense[06776602](十分): 十分的文化。>\n",
      "Found invalid:   [<CwnLemma: 化妝_1>] <CwnSense[05007902](化妝): 比喻用外在事物暫時遮蓋醜陋的行為。>\n",
      "Found invalid:   [<CwnLemma: 力量_1>] <CwnSense[06556104](力量): 特定對象發揮效力所獲得的正面結果。>\n",
      "Found invalid:   [<CwnLemma: 分辨_1>] <CwnSense[04109803](分辨): 特定對象和其他對象不同的地方。>\n",
      "Found invalid:   [<CwnLemma: 出來_1>] <CwnSense[06747608](出來): 形容比預期的程度更高的。>\n",
      "Found invalid:   [<CwnLemma: 冷靜_1>] <CwnSense[14296802](冷靜): 使描述對象情緒無起伏。>\n",
      "Found invalid:   [<CwnLemma: 冷酷_1>] <CwnSense[14203702](冷酷): 與人事物互動不帶情感且沒有同理心的態度。>\n",
      "Found invalid:   [<CwnLemma: 冷戰_1>] <CwnSense[05160201](冷戰): 國與國間沒有武力衝突的緊張對峙狀態。>\n",
      "Found invalid:   [<CwnLemma: 冷戰_1>] <CwnSense[05160205](冷戰): 人與人間沒有肢體語言暴力的緊張對峙狀態。>\n",
      "Found invalid:   [<CwnLemma: 先天_1>] <CwnSense[06619902](先天): 生物的初生時期。>\n",
      "Found invalid:   [<CwnLemma: 兄弟_1>, <CwnLemma: 兄弟_2>] <CwnSense[03047405](兄弟): 代指男性說話者。>\n",
      "Found invalid:   [<CwnLemma: 做主_1>] <CwnSense[05058002](做主): 請前述對象為說話者出面。>\n",
      "Found invalid:   [<CwnLemma: 作主_1>] <CwnSense[05208602](作主): 請前述對象為說話者出面。>\n",
      "Found invalid:   [<CwnLemma: 人力_1>] <CwnSense[06553002](人力): 進行體力勞動時所消耗的力氣。>\n",
      "Found invalid:   [<CwnLemma: 之前_1>] <CwnSense[03056803](之前): 位置或順序在另一物體的前面。>\n",
      "Found invalid:   [<CwnLemma: 之交_1>] <CwnSense[03056502](之交): 兩個地點的交界處。>\n",
      "Found invalid:   [<CwnLemma: 乃父_1>] <CwnSense[05101702](乃父): 代指前述指涉對象的爸爸。>\n",
      "Found invalid:   [<CwnLemma: 不實_1>] <CwnSense[04127202](不實): 形容為人不實在。>\n"
     ]
    }
   ],
   "source": [
    "#data\n",
    "# for i in range(1, len(data)):\n",
    "#     print(cwn.find_lemma('^' + data[i][0] + '$'))\n",
    "#cwn.find_lemma('^' + data[i][0] + '$')[0].senses[0].all_examples()\n",
    "\n",
    "for i in reversed(range(1, len(data))):\n",
    "    lemmas = cwn.find_lemma('^' + data[i][0] + '$')\n",
    "    \n",
    "    for j in range(len(lemmas)):\n",
    "        senses = lemmas[j].senses\n",
    "        \n",
    "        for k in range(len(senses)):\n",
    "            if senses[k].pos.startswith('N') or senses[k].pos.startswith('V'):\n",
    "                sentences = senses[k].all_examples()\n",
    "                if len(sentences) < 2:\n",
    "                    print('Found invalid:  ', lemmas, senses[k])\n",
    "                    data.pop(i)"
   ]
  },
  {
   "cell_type": "code",
   "execution_count": 41,
   "metadata": {},
   "outputs": [],
   "source": [
    "for i in range(1, len(data)):\n",
    "    lemmas = cwn.find_lemma('^' + data[i][0] + '$')\n",
    "    \n",
    "    for j in range(len(lemmas)):\n",
    "        senses = lemmas[j].senses\n",
    "        \n",
    "        for k in range(len(senses)):\n",
    "            if senses[k].pos.startswith('N') or senses[k].pos.startswith('V'):\n",
    "                sentences = senses[k].all_examples()\n",
    "                if len(sentences) < 2:\n",
    "                    print('Found invalid:  ', lemmas, senses[k])"
   ]
  },
  {
   "cell_type": "markdown",
   "metadata": {},
   "source": [
    "## Checking: Component"
   ]
  },
  {
   "cell_type": "code",
   "execution_count": 34,
   "metadata": {},
   "outputs": [],
   "source": [
    "count = 0\n",
    "for i in range(1, len(data)):\n",
    "    for char in [data[i][1], data[i][2]]:\n",
    "        lemmas = cwn.find_lemma('^' + char + '$')\n",
    "\n",
    "        for j in range(len(lemmas)):\n",
    "            senses = lemmas[j].senses\n",
    "\n",
    "            for k in range(len(senses)):\n",
    "                if senses[k].pos.startswith('N') or senses[k].pos.startswith('V'):\n",
    "                    sentences = senses[k].all_examples()\n",
    "                    if len(sentences) < 2:\n",
    "                        count += 1\n",
    "                        print('Found invalid:  ', lemmas, senses[k])"
   ]
  },
  {
   "cell_type": "markdown",
   "metadata": {},
   "source": [
    "## Save Filtered Data"
   ]
  },
  {
   "cell_type": "code",
   "execution_count": 43,
   "metadata": {},
   "outputs": [],
   "source": [
    "with open('../annotated_relation/merged_checked.csv', 'w') as f:\n",
    "    writer = csv.writer(f)\n",
    "    writer.writerows(data)"
   ]
  }
 ],
 "metadata": {
  "kernelspec": {
   "display_name": "Python 3",
   "language": "python",
   "name": "python3"
  },
  "language_info": {
   "codemirror_mode": {
    "name": "ipython",
    "version": 3
   },
   "file_extension": ".py",
   "mimetype": "text/x-python",
   "name": "python",
   "nbconvert_exporter": "python",
   "pygments_lexer": "ipython3",
   "version": "3.6.7"
  }
 },
 "nbformat": 4,
 "nbformat_minor": 2
}
